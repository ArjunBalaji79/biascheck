{
 "cells": [
  {
   "cell_type": "code",
   "execution_count": 2,
   "metadata": {},
   "outputs": [
    {
     "name": "stderr",
     "output_type": "stream",
     "text": [
      "Hardware accelerator e.g. GPU is available in the environment, but no `device` argument is passed to the `Pipeline` object. Model will be on CPU.\n"
     ]
    },
    {
     "ename": "TypeError",
     "evalue": "object of type 'IndexFlatL2' has no len()",
     "output_type": "error",
     "traceback": [
      "\u001b[0;31m---------------------------------------------------------------------------\u001b[0m",
      "\u001b[0;31mTypeError\u001b[0m                                 Traceback (most recent call last)",
      "Cell \u001b[0;32mIn[2], line 23\u001b[0m\n\u001b[1;32m     15\u001b[0m checker \u001b[38;5;241m=\u001b[39m BaseCheck(\n\u001b[1;32m     16\u001b[0m     data\u001b[38;5;241m=\u001b[39mvector_db,\n\u001b[1;32m     17\u001b[0m     terms\u001b[38;5;241m=\u001b[39m[\u001b[38;5;124m\"\u001b[39m\u001b[38;5;124mdiscrimination\u001b[39m\u001b[38;5;124m\"\u001b[39m, \u001b[38;5;124m\"\u001b[39m\u001b[38;5;124mbias\u001b[39m\u001b[38;5;124m\"\u001b[39m, \u001b[38;5;124m\"\u001b[39m\u001b[38;5;124mstereotypes\u001b[39m\u001b[38;5;124m\"\u001b[39m],\n\u001b[1;32m     18\u001b[0m     model_name\u001b[38;5;241m=\u001b[39m\u001b[38;5;124m\"\u001b[39m\u001b[38;5;124msentence-transformers/all-MiniLM-L6-v2\u001b[39m\u001b[38;5;124m\"\u001b[39m,\n\u001b[1;32m     19\u001b[0m     use_contextual_analysis\u001b[38;5;241m=\u001b[39m\u001b[38;5;28;01mTrue\u001b[39;00m,\n\u001b[1;32m     20\u001b[0m )\n\u001b[1;32m     22\u001b[0m \u001b[38;5;66;03m# Perform analysis\u001b[39;00m\n\u001b[0;32m---> 23\u001b[0m results_df \u001b[38;5;241m=\u001b[39m \u001b[43mchecker\u001b[49m\u001b[38;5;241;43m.\u001b[39;49m\u001b[43manalyze\u001b[49m\u001b[43m(\u001b[49m\u001b[43m)\u001b[49m\n\u001b[1;32m     25\u001b[0m \u001b[38;5;66;03m# Generate and print report\u001b[39;00m\n\u001b[1;32m     26\u001b[0m report \u001b[38;5;241m=\u001b[39m checker\u001b[38;5;241m.\u001b[39mgenerate_report(results_df)\n",
      "File \u001b[0;32m/opt/anaconda3/envs/test_env/lib/python3.10/site-packages/biascheck/analysis/basecheck.py:192\u001b[0m, in \u001b[0;36mBaseCheck.analyze\u001b[0;34m(self)\u001b[0m\n\u001b[1;32m    185\u001b[0m \u001b[38;5;250m\u001b[39m\u001b[38;5;124;03m\"\"\"\u001b[39;00m\n\u001b[1;32m    186\u001b[0m \u001b[38;5;124;03mAnalyze the database for bias, sentiment, and contextual analysis.\u001b[39;00m\n\u001b[1;32m    187\u001b[0m \n\u001b[1;32m    188\u001b[0m \u001b[38;5;124;03mReturns:\u001b[39;00m\n\u001b[1;32m    189\u001b[0m \u001b[38;5;124;03m    pd.DataFrame: Results of the analysis.\u001b[39;00m\n\u001b[1;32m    190\u001b[0m \u001b[38;5;124;03m\"\"\"\u001b[39;00m\n\u001b[1;32m    191\u001b[0m \u001b[38;5;28;01mif\u001b[39;00m \u001b[38;5;28misinstance\u001b[39m(\u001b[38;5;28mself\u001b[39m\u001b[38;5;241m.\u001b[39mdata, FAISS):\n\u001b[0;32m--> 192\u001b[0m     \u001b[38;5;28;01mreturn\u001b[39;00m \u001b[38;5;28;43mself\u001b[39;49m\u001b[38;5;241;43m.\u001b[39;49m\u001b[43m_analyze_vectordb\u001b[49m\u001b[43m(\u001b[49m\u001b[43m)\u001b[49m\n\u001b[1;32m    193\u001b[0m \u001b[38;5;28;01melif\u001b[39;00m \u001b[38;5;28misinstance\u001b[39m(\u001b[38;5;28mself\u001b[39m\u001b[38;5;241m.\u001b[39mdata, Graph):\n\u001b[1;32m    194\u001b[0m     \u001b[38;5;28;01mreturn\u001b[39;00m \u001b[38;5;28mself\u001b[39m\u001b[38;5;241m.\u001b[39m_analyze_graphdb()\n",
      "File \u001b[0;32m/opt/anaconda3/envs/test_env/lib/python3.10/site-packages/biascheck/analysis/basecheck.py:118\u001b[0m, in \u001b[0;36mBaseCheck._analyze_vectordb\u001b[0;34m(self)\u001b[0m\n\u001b[1;32m    110\u001b[0m \u001b[38;5;250m\u001b[39m\u001b[38;5;124;03m\"\"\"\u001b[39;00m\n\u001b[1;32m    111\u001b[0m \u001b[38;5;124;03mAnalyze a vector database (FAISS) for bias, sentiment, and contextual analysis.\u001b[39;00m\n\u001b[1;32m    112\u001b[0m \n\u001b[1;32m    113\u001b[0m \u001b[38;5;124;03mReturns:\u001b[39;00m\n\u001b[1;32m    114\u001b[0m \u001b[38;5;124;03m    pd.DataFrame: Results of the analysis.\u001b[39;00m\n\u001b[1;32m    115\u001b[0m \u001b[38;5;124;03m\"\"\"\u001b[39;00m\n\u001b[1;32m    116\u001b[0m all_results \u001b[38;5;241m=\u001b[39m []\n\u001b[0;32m--> 118\u001b[0m \u001b[38;5;28;01mfor\u001b[39;00m doc \u001b[38;5;129;01min\u001b[39;00m \u001b[38;5;28mself\u001b[39m\u001b[38;5;241m.\u001b[39mdata\u001b[38;5;241m.\u001b[39msimilarity_search(query\u001b[38;5;241m=\u001b[39m\u001b[38;5;124m\"\u001b[39m\u001b[38;5;124m \u001b[39m\u001b[38;5;124m\"\u001b[39m, k\u001b[38;5;241m=\u001b[39m\u001b[38;5;28;43mlen\u001b[39;49m\u001b[43m(\u001b[49m\u001b[38;5;28;43mself\u001b[39;49m\u001b[38;5;241;43m.\u001b[39;49m\u001b[43mdata\u001b[49m\u001b[38;5;241;43m.\u001b[39;49m\u001b[43mindex\u001b[49m\u001b[43m)\u001b[49m):\n\u001b[1;32m    119\u001b[0m     text \u001b[38;5;241m=\u001b[39m doc\u001b[38;5;241m.\u001b[39mpage_content\n\u001b[1;32m    120\u001b[0m     metadata \u001b[38;5;241m=\u001b[39m doc\u001b[38;5;241m.\u001b[39mmetadata\n",
      "\u001b[0;31mTypeError\u001b[0m: object of type 'IndexFlatL2' has no len()"
     ]
    }
   ],
   "source": [
    "from biascheck.analysis.basecheck import BaseCheck\n",
    "from langchain.vectorstores import FAISS\n",
    "from datasets import load_dataset\n",
    "from langchain.embeddings.huggingface import HuggingFaceEmbeddings\n",
    "\n",
    "# Load a publicly available dataset from Hugging Face\n",
    "dataset = load_dataset(\"imdb\", split=\"train[:20]\")  # Load first 1000 samples for speed\n",
    "documents = [{\"text\": doc[\"text\"]} for doc in dataset]\n",
    "\n",
    "# Initialize embeddings and FAISS vector database\n",
    "embeddings = HuggingFaceEmbeddings(model_name=\"sentence-transformers/all-MiniLM-L6-v2\")\n",
    "vector_db = FAISS.from_texts([doc[\"text\"] for doc in documents], embeddings)\n",
    "\n",
    "# Initialize BaseCheck\n",
    "checker = BaseCheck(\n",
    "    data=vector_db,\n",
    "    terms=[\"discrimination\", \"bias\", \"stereotypes\"],\n",
    "    model_name=\"sentence-transformers/all-MiniLM-L6-v2\",\n",
    "    use_contextual_analysis=True,\n",
    ")\n",
    "\n",
    "# Perform analysis\n",
    "results_df = checker.analyze()\n",
    "\n",
    "# Generate and print report\n",
    "report = checker.generate_report(results_df)\n",
    "print(report)"
   ]
  },
  {
   "cell_type": "code",
   "execution_count": null,
   "metadata": {},
   "outputs": [],
   "source": [
    "from biascheck.analysis.basecheck import BaseCheck\n",
    "from py2neo import Graph\n",
    "\n",
    "# Connect to a local or remote Neo4j instance\n",
    "graph_db = Graph(\"bolt://localhost:7687\", auth=(\"neo4j\", \"password\"))\n",
    "\n",
    "# Populate the graph database with sample data (optional)\n",
    "# Example: Load Movie Dataset in Neo4j from https://github.com/neo4j-graph-examples/movies\n",
    "\n",
    "# Initialize BaseCheck\n",
    "checker = BaseCheck(\n",
    "    data=graph_db,\n",
    "    terms=[\"discrimination\", \"bias\", \"stereotypes\"],\n",
    "    model_name=\"sentence-transformers/all-MiniLM-L6-v2\",\n",
    "    use_contextual_analysis=True,\n",
    ")\n",
    "\n",
    "# Perform analysis\n",
    "results_df = checker.analyze()\n",
    "\n",
    "# Generate and print report\n",
    "report = checker.generate_report(results_df)\n",
    "print(report)"
   ]
  }
 ],
 "metadata": {
  "kernelspec": {
   "display_name": "test_env",
   "language": "python",
   "name": "python3"
  },
  "language_info": {
   "codemirror_mode": {
    "name": "ipython",
    "version": 3
   },
   "file_extension": ".py",
   "mimetype": "text/x-python",
   "name": "python",
   "nbconvert_exporter": "python",
   "pygments_lexer": "ipython3",
   "version": "3.10.10"
  }
 },
 "nbformat": 4,
 "nbformat_minor": 2
}
