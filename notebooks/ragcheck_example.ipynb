{
 "cells": [
  {
   "cell_type": "code",
   "execution_count": null,
   "metadata": {},
   "outputs": [],
   "source": [
    "from biascheck.analysis.ragcheck import RAGCheck\n",
    "from langchain.llms import Ollama\n",
    "\n",
    "model = Ollama(model=\"llama3\")\n",
    "topics = [\"Healthcare systems in the world\", \"Technological advancements\"]\n",
    "\n",
    "analyzer = RAGCheck(model=model, document=\"path/to/document.pdf\", terms=[\"bias\", \"polarization\"])\n",
    "result = analyzer.analyze(topics=topics, num_responses=5, word_limit=100)\n",
    "print(result)"
   ]
  },
  {
   "cell_type": "code",
   "execution_count": null,
   "metadata": {},
   "outputs": [],
   "source": []
  }
 ],
 "metadata": {
  "kernelspec": {
   "display_name": "zuse",
   "language": "python",
   "name": "python3"
  },
  "language_info": {
   "codemirror_mode": {
    "name": "ipython",
    "version": 3
   },
   "file_extension": ".py",
   "mimetype": "text/x-python",
   "name": "python",
   "nbconvert_exporter": "python",
   "pygments_lexer": "ipython3",
   "version": "3.12.3"
  }
 },
 "nbformat": 4,
 "nbformat_minor": 2
}
