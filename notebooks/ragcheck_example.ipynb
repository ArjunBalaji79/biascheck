{
 "cells": [
  {
   "cell_type": "code",
   "execution_count": 2,
   "metadata": {},
   "outputs": [
    {
     "name": "stderr",
     "output_type": "stream",
     "text": [
      "/opt/anaconda3/envs/test_env/lib/python3.10/site-packages/biascheck/analysis/ragcheck.py:53: LangChainDeprecationWarning: Default values for HuggingFaceEmbeddings.model_name were deprecated in LangChain 0.2.16 and will be removed in 0.4.0. Explicitly pass a model_name to the HuggingFaceEmbeddings constructor instead.\n",
      "  embeddings = HuggingFaceEmbeddings()\n"
     ]
    },
    {
     "name": "stdout",
     "output_type": "stream",
     "text": [
      "                             topic  \\\n",
      "0  Healthcare systems in the world   \n",
      "1       Technological advancements   \n",
      "\n",
      "                                            response  \\\n",
      "0  The proposed healthcare app aims to increase b...   \n",
      "1  The technological advancements that can help a...   \n",
      "\n",
      "                                    source_documents  contains_bias  \n",
      "0  [The\\nBlood\\nNetwork\\nEmpowering\\nLife:\\nBridg...          False  \n",
      "1  [The\\nBlood\\nNetwork\\nEmpowering\\nLife:\\nBridg...          False  \n"
     ]
    }
   ],
   "source": [
    "from biascheck.analysis.ragcheck import RAGCheck\n",
    "from langchain.llms import Ollama\n",
    "\n",
    "model = Ollama(model=\"llama3\")\n",
    "topics = [\"Healthcare systems in the world\", \"Technological advancements\"]\n",
    "\n",
    "analyzer = RAGCheck(model=model, document=\"/Users/balajis/Downloads/BloodNetwork.pdf\", terms=[\"bias\", \"polarization\"])\n",
    "result = analyzer.analyze(topics=topics, num_responses=1, word_limit=50)\n",
    "print(result)"
   ]
  },
  {
   "cell_type": "code",
   "execution_count": null,
   "metadata": {},
   "outputs": [],
   "source": []
  }
 ],
 "metadata": {
  "kernelspec": {
   "display_name": "zuse",
   "language": "python",
   "name": "python3"
  },
  "language_info": {
   "codemirror_mode": {
    "name": "ipython",
    "version": 3
   },
   "file_extension": ".py",
   "mimetype": "text/x-python",
   "name": "python",
   "nbconvert_exporter": "python",
   "pygments_lexer": "ipython3",
   "version": "3.10.10"
  }
 },
 "nbformat": 4,
 "nbformat_minor": 2
}
