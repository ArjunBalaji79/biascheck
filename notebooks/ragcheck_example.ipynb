{
 "cells": [
  {
   "cell_type": "code",
   "execution_count": null,
   "metadata": {},
   "outputs": [],
   "source": [
    "from langchain_ollama import OllamaLLM\n",
    "from biascheck.analysis.ragcheck import RAGCheck\n",
    "\n",
    "# Initialize the RAGCheck class\n",
    "rag_checker = RAGCheck(\n",
    "    model=OllamaLLM(model=\"llama3\"),\n",
    "    document=\"/Users/balajis/Downloads/BloodNetwork.pdf\",\n",
    "    terms=[\"bias\", \"discrimination\", \"stereotypes\"],\n",
    "    verbose=True,\n",
    ")"
   ]
  },
  {
   "cell_type": "code",
   "execution_count": null,
   "metadata": {},
   "outputs": [],
   "source": [
    "# Topics to analyze\n",
    "topics = [\"Workplace bias\", \"Social media discrimination\"]\n",
    "\n",
    "# Perform analysis, choose the number of words and number of responses for each topic that you want to generate\n",
    "results_df = rag_checker.analyze(topics=topics, num_responses=1, word_limit=10)\n"
   ]
  },
  {
   "cell_type": "code",
   "execution_count": null,
   "metadata": {},
   "outputs": [],
   "source": [
    "results_df"
   ]
  },
  {
   "cell_type": "code",
   "execution_count": null,
   "metadata": {},
   "outputs": [],
   "source": []
  }
 ],
 "metadata": {
  "kernelspec": {
   "display_name": "test_env",
   "language": "python",
   "name": "python3"
  },
  "language_info": {
   "codemirror_mode": {
    "name": "ipython",
    "version": 3
   },
   "file_extension": ".py",
   "mimetype": "text/x-python",
   "name": "python",
   "nbconvert_exporter": "python",
   "pygments_lexer": "ipython3",
   "version": "3.10.10"
  }
 },
 "nbformat": 4,
 "nbformat_minor": 2
}
