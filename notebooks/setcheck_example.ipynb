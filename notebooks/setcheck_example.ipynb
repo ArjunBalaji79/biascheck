{
 "cells": [
  {
   "cell_type": "code",
   "execution_count": 1,
   "metadata": {},
   "outputs": [
    {
     "name": "stderr",
     "output_type": "stream",
     "text": [
      "/opt/anaconda3/envs/test_env/lib/python3.10/site-packages/tqdm/auto.py:21: TqdmWarning: IProgress not found. Please update jupyter and ipywidgets. See https://ipywidgets.readthedocs.io/en/stable/user_install.html\n",
      "  from .autonotebook import tqdm as notebook_tqdm\n"
     ]
    },
    {
     "name": "stdout",
     "output_type": "stream",
     "text": [
      "Sentence: People from country X are lazy and inefficient\n",
      "Similarity: 0.30\n",
      "Sentiment: -0.25\n",
      "Sentence: Country Y citizens are hardworking\n",
      "Similarity: 0.21\n",
      "Sentiment: 0.00\n",
      "Sentence: Such language perpetuates harmful stereotypes\n",
      "Similarity: 0.36\n",
      "Sentiment: 0.00\n",
      "\n",
      "Flagged Records:\n",
      "   id column                                    flagged_text  bias_score  \\\n",
      "0   2   text   Such language perpetuates harmful stereotypes    0.355141   \n",
      "1   0   text  People from country X are lazy and inefficient    0.304087   \n",
      "2   1   text              Country Y citizens are hardworking    0.213731   \n",
      "\n",
      "   sentiment  \n",
      "0       0.00  \n",
      "1      -0.25  \n",
      "2       0.00  \n"
     ]
    }
   ],
   "source": [
    "import pandas as pd\n",
    "from biascheck.analysis.setcheck import SetCheck\n",
    "\n",
    "# Create a sample DataFrame\n",
    "df = pd.DataFrame({\n",
    "    \"id\": [1, 2, 3],\n",
    "    \"text\": [\n",
    "        \"People from country X are lazy and inefficient.\",\n",
    "        \"Country Y citizens are hardworking.\",\n",
    "        \"Such language perpetuates harmful stereotypes.\"\n",
    "    ]\n",
    "})\n",
    "\n",
    "# Define terms to check for\n",
    "terms = [\"lazy\", \"stereotypes\", \"discrimination\"]\n",
    "\n",
    "# Initialize SetCheck\n",
    "analyzer = SetCheck(\n",
    "    data=df,\n",
    "    input_cols=[\"text\"],  # Specify the column to analyze\n",
    "    terms=terms,\n",
    "    bias_threshold=0.2,  # Adjust threshold as needed\n",
    "    verbose=True,  # Set to True for debugging\n",
    ")\n",
    "\n",
    "# Analyze the dataset\n",
    "flagged_df = analyzer.analyze(top_n=10)\n",
    "\n",
    "# Display the flagged DataFrame\n",
    "print(\"\\nFlagged Records:\")\n",
    "print(flagged_df)\n",
    "\n",
    "# Save the flagged DataFrame to a CSV file\n",
    "# flagged_df.to_csv(\"flagged_records_dataframe.csv\", index=False)"
   ]
  },
  {
   "cell_type": "code",
   "execution_count": null,
   "metadata": {},
   "outputs": [],
   "source": []
  }
 ],
 "metadata": {
  "kernelspec": {
   "display_name": "zuse",
   "language": "python",
   "name": "python3"
  },
  "language_info": {
   "codemirror_mode": {
    "name": "ipython",
    "version": 3
   },
   "file_extension": ".py",
   "mimetype": "text/x-python",
   "name": "python",
   "nbconvert_exporter": "python",
   "pygments_lexer": "ipython3",
   "version": "3.10.10"
  }
 },
 "nbformat": 4,
 "nbformat_minor": 2
}
