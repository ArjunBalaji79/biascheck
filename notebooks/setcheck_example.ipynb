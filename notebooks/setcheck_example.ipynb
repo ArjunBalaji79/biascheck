{
 "cells": [
  {
   "cell_type": "code",
   "execution_count": null,
   "metadata": {},
   "outputs": [],
   "source": [
    "import pandas as pd\n",
    "from biascheck.analysis.setcheck import SetCheck\n",
    "\n",
    "# Step 1: Load your CSV file into a DataFrame\n",
    "# Assume the CSV has a column named 'text' containing sentences to analyze\n",
    "csv_path = \"/path_to_file.csv\"  # Replace with the path to your CSV\n",
    "df = pd.read_csv(csv_path).head(10)\n",
    "\n",
    "# Step 2: Initialize SetCheck with terms to analyze for bias\n",
    "set_check = SetCheck(\n",
    "    data=df,\n",
    "    input_cols=[\"text\"],  # Replace with the column name containing text in your CSV\n",
    "    terms=[\"discrimination\", \"bias\", \"stereotype\"],  # Replace with your custom terms\n",
    "    model_name=\"sentence-transformers/all-MiniLM-L6-v2\",\n",
    "    use_contextual_analysis=True,  # Set to True to enable contextual analysis\n",
    "    verbose=True,\n",
    "    similarity_threshold=0.5,  # Adjust threshold based on your needs\n",
    ")\n"
   ]
  },
  {
   "cell_type": "code",
   "execution_count": null,
   "metadata": {},
   "outputs": [],
   "source": [
    "# Step 3: Analyze the dataset\n",
    "results_df = set_check.analyze()\n",
    "\n",
    "# Step 4: Save the results to a new CSV file\n",
    "results_df.to_csv(\"analysis_results.csv\", index=False)\n",
    "\n",
    "results_df"
   ]
  },
  {
   "cell_type": "code",
   "execution_count": null,
   "metadata": {},
   "outputs": [],
   "source": [
    "# Step 5: Print top flagged sentences\n",
    "print(\"Top Flagged Sentences:\")\n",
    "flagged_sentences = results_df[results_df[\"flagged\"]]\n",
    "print(flagged_sentences[[\"sentence\", \"similarity\", \"final_contextual_analysis\"]])\n",
    "\n",
    "# Step 6: Filter for specific conditions (optional)\n",
    "filtered_results = set_check.filter_dataframe({\"flagged\": True})\n",
    "print(\"Filtered Results:\")\n",
    "print(filtered_results.head())"
   ]
  }
 ],
 "metadata": {
  "kernelspec": {
   "display_name": "test_env",
   "language": "python",
   "name": "python3"
  },
  "language_info": {
   "codemirror_mode": {
    "name": "ipython",
    "version": 3
   },
   "file_extension": ".py",
   "mimetype": "text/x-python",
   "name": "python",
   "nbconvert_exporter": "python",
   "pygments_lexer": "ipython3",
   "version": "3.10.10"
  }
 },
 "nbformat": 4,
 "nbformat_minor": 2
}
