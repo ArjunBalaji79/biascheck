{
 "cells": [
  {
   "cell_type": "code",
   "execution_count": null,
   "metadata": {},
   "outputs": [],
   "source": [
    "import pandas as pd\n",
    "from biascheck.analysis.setcheck import SetCheck\n",
    "\n",
    "\n",
    "# Create a DataFrame \n",
    "df = pd.read_csv(\"/path_to_file.csv\").head(10)"
   ]
  },
  {
   "cell_type": "code",
   "execution_count": null,
   "metadata": {},
   "outputs": [],
   "source": [
    "set_check = SetCheck(\n",
    "    data=df,\n",
    "    input_cols=[\"text\"],\n",
    "    terms=None, #Optional Terms containing contextual terms, for example it can be discriminatory terms from a certain region\n",
    "    use_contextual_analysis=True,\n",
    "    verbose=False,\n",
    ")"
   ]
  },
  {
   "cell_type": "code",
   "execution_count": null,
   "metadata": {},
   "outputs": [],
   "source": [
    "results_df = set_check.analyze()\n",
    "print(results_df)"
   ]
  },
  {
   "cell_type": "code",
   "execution_count": null,
   "metadata": {},
   "outputs": [],
   "source": [
    "from biascheck.visualisation.visualiser import Visualiser\n",
    "\n",
    "# Plot sentiment distribution\n",
    "Visualiser.plot_sentiment_distribution(results_df, title=\"Sentiment Distribution in Dataset\")\n",
    "\n",
    "# Plot contextual analysis scores\n",
    "Visualiser.plot_contextual_analysis_scores(results_df, title=\"Contextual Analysis Hypotheses Scores\")\n",
    "\n",
    "# Scatter plot of sentiment scores\n",
    "Visualiser.plot_sentences_by_sentiment_score(results_df, title=\"Sentences by Sentiment Scores\")\n"
   ]
  },
  {
   "cell_type": "code",
   "execution_count": null,
   "metadata": {},
   "outputs": [],
   "source": []
  }
 ],
 "metadata": {
  "kernelspec": {
   "display_name": "test_env",
   "language": "python",
   "name": "python3"
  },
  "language_info": {
   "codemirror_mode": {
    "name": "ipython",
    "version": 3
   },
   "file_extension": ".py",
   "mimetype": "text/x-python",
   "name": "python",
   "nbconvert_exporter": "python",
   "pygments_lexer": "ipython3",
   "version": "3.10.10"
  }
 },
 "nbformat": 4,
 "nbformat_minor": 2
}
