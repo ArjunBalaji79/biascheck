{
 "cells": [
  {
   "cell_type": "code",
   "execution_count": 4,
   "metadata": {},
   "outputs": [
    {
     "ename": "ModuleNotFoundError",
     "evalue": "No module named 'biascheck'",
     "output_type": "error",
     "traceback": [
      "\u001b[0;31m---------------------------------------------------------------------------\u001b[0m",
      "\u001b[0;31mModuleNotFoundError\u001b[0m                       Traceback (most recent call last)",
      "Cell \u001b[0;32mIn[4], line 1\u001b[0m\n\u001b[0;32m----> 1\u001b[0m \u001b[38;5;28;01mfrom\u001b[39;00m \u001b[38;5;21;01mbiascheck\u001b[39;00m \u001b[38;5;28;01mimport\u001b[39;00m DocuCheck\n\u001b[1;32m      3\u001b[0m \u001b[38;5;66;03m# Load text data\u001b[39;00m\n\u001b[1;32m      4\u001b[0m data \u001b[38;5;241m=\u001b[39m \u001b[38;5;124m\"\u001b[39m\u001b[38;5;124mThis is a sample document with potentially biased content.\u001b[39m\u001b[38;5;124m\"\u001b[39m\n",
      "\u001b[0;31mModuleNotFoundError\u001b[0m: No module named 'biascheck'"
     ]
    }
   ],
   "source": [
    "from biascheck import DocuCheck\n",
    "\n",
    "# Load text data\n",
    "data = \"This is a sample document with potentially biased content.\"\n",
    "\n",
    "# Define terms\n",
    "terms = [\"biased\", \"content\"]\n",
    "\n",
    "# Initialize and analyze\n",
    "analyzer = DocuCheck(data=data, terms=terms)\n",
    "result = analyzer.analyze()\n",
    "\n",
    "# Print results\n",
    "print(result)"
   ]
  },
  {
   "cell_type": "code",
   "execution_count": null,
   "metadata": {},
   "outputs": [],
   "source": []
  }
 ],
 "metadata": {
  "kernelspec": {
   "display_name": "zuse",
   "language": "python",
   "name": "python3"
  },
  "language_info": {
   "codemirror_mode": {
    "name": "ipython",
    "version": 3
   },
   "file_extension": ".py",
   "mimetype": "text/x-python",
   "name": "python",
   "nbconvert_exporter": "python",
   "pygments_lexer": "ipython3",
   "version": "3.12.3"
  }
 },
 "nbformat": 4,
 "nbformat_minor": 2
}
