{
 "cells": [
  {
   "cell_type": "code",
   "execution_count": null,
   "metadata": {},
   "outputs": [],
   "source": [
    "from biascheck.analysis.docucheck import DocuCheck\n",
    "\n",
    "# Example text data\n",
    "text_data = \"\"\"\n",
    "Artificial intelligence is reshaping the world. However, it may perpetuate stereotypes \n",
    "and bias. We must ensure responsible AI development for a fair future.\n",
    "\"\"\"\n",
    "\n",
    "# Initialize DocuCheck\n",
    "docucheck = DocuCheck(\n",
    "    data=text_data,\n",
    "    terms=[\"bias\", \"stereotypes\", \"discrimination\"],\n",
    "    use_advanced_sentiment=True,\n",
    "    use_contextual_analysis=True,\n",
    "    verbose=False,\n",
    ")\n",
    "\n",
    "# Analyze the document\n",
    "results_df = docucheck.analyze()\n",
    "\n",
    "# Display the results\n",
    "print(results_df)"
   ]
  },
  {
   "cell_type": "code",
   "execution_count": null,
   "metadata": {},
   "outputs": [],
   "source": [
    "results_df"
   ]
  },
  {
   "cell_type": "code",
   "execution_count": null,
   "metadata": {},
   "outputs": [],
   "source": [
    "from biascheck.analysis.docucheck import DocuCheck\n",
    "from biascheck.utils.terms_loader import load_document\n",
    "# Path to the PDF file\n",
    "pdf_path = load_document(\"path_to_file.pdf\")\n",
    "\n",
    "# Initialize DocuCheck with a PDF document\n",
    "docucheck = DocuCheck(\n",
    "    document=pdf_path,\n",
    "    terms=None,\n",
    "    use_advanced_sentiment=True,\n",
    "    use_contextual_analysis=True,\n",
    "    verbose=False,\n",
    ")\n",
    "\n",
    "# Analyze the document\n",
    "results_df = docucheck.analyze()\n",
    "\n",
    "# Display the results DataFrame\n",
    "print(results_df)"
   ]
  },
  {
   "cell_type": "code",
   "execution_count": null,
   "metadata": {},
   "outputs": [],
   "source": [
    "results_df"
   ]
  }
 ],
 "metadata": {
  "kernelspec": {
   "display_name": "test_env",
   "language": "python",
   "name": "python3"
  },
  "language_info": {
   "codemirror_mode": {
    "name": "ipython",
    "version": 3
   },
   "file_extension": ".py",
   "mimetype": "text/x-python",
   "name": "python",
   "nbconvert_exporter": "python",
   "pygments_lexer": "ipython3",
   "version": "3.10.10"
  }
 },
 "nbformat": 4,
 "nbformat_minor": 2
}
