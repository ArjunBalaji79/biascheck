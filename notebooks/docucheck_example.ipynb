{
 "cells": [
  {
   "cell_type": "code",
   "execution_count": 1,
   "metadata": {},
   "outputs": [
    {
     "name": "stderr",
     "output_type": "stream",
     "text": [
      "/opt/anaconda3/envs/zuse/lib/python3.12/site-packages/tqdm/auto.py:21: TqdmWarning: IProgress not found. Please update jupyter and ipywidgets. See https://ipywidgets.readthedocs.io/en/stable/user_install.html\n",
      "  from .autonotebook import tqdm as notebook_tqdm\n"
     ]
    },
    {
     "name": "stdout",
     "output_type": "stream",
     "text": [
      "{'bias_score': 1.0, 'flagged_sentences': ['This is a sample document with potentially biased content.']}\n"
     ]
    }
   ],
   "source": [
    "from biascheck import DocuCheck\n",
    "\n",
    "# Load text data\n",
    "data = \"This is a sample document with potentially biased content.\"\n",
    "\n",
    "# Define terms\n",
    "terms = [\"biased\", \"content\"]\n",
    "\n",
    "# Initialize and analyze\n",
    "analyzer = DocuCheck(data=data, terms=terms)\n",
    "result = analyzer.analyze()\n",
    "\n",
    "# Print results\n",
    "print(result)"
   ]
  },
  {
   "cell_type": "code",
   "execution_count": null,
   "metadata": {},
   "outputs": [],
   "source": []
  }
 ],
 "metadata": {
  "kernelspec": {
   "display_name": "zuse",
   "language": "python",
   "name": "python3"
  },
  "language_info": {
   "codemirror_mode": {
    "name": "ipython",
    "version": 3
   },
   "file_extension": ".py",
   "mimetype": "text/x-python",
   "name": "python",
   "nbconvert_exporter": "python",
   "pygments_lexer": "ipython3",
   "version": "3.12.3"
  }
 },
 "nbformat": 4,
 "nbformat_minor": 2
}
