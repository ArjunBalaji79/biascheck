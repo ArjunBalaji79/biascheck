{
 "cells": [
  {
   "cell_type": "code",
   "execution_count": 3,
   "metadata": {},
   "outputs": [
    {
     "ename": "ModuleNotFoundError",
     "evalue": "No module named 'biascheck.utils.embed_utils'; 'biascheck.utils' is not a package",
     "output_type": "error",
     "traceback": [
      "\u001b[0;31m---------------------------------------------------------------------------\u001b[0m",
      "\u001b[0;31mModuleNotFoundError\u001b[0m                       Traceback (most recent call last)",
      "Cell \u001b[0;32mIn[3], line 1\u001b[0m\n\u001b[0;32m----> 1\u001b[0m \u001b[38;5;28;01mfrom\u001b[39;00m \u001b[38;5;21;01mbiascheck\u001b[39;00m\u001b[38;5;21;01m.\u001b[39;00m\u001b[38;5;21;01manalysis\u001b[39;00m\u001b[38;5;21;01m.\u001b[39;00m\u001b[38;5;21;01mdocucheck\u001b[39;00m \u001b[38;5;28;01mimport\u001b[39;00m DocuCheck\n\u001b[1;32m      3\u001b[0m \u001b[38;5;66;03m# Sample text data\u001b[39;00m\n\u001b[1;32m      4\u001b[0m text_data \u001b[38;5;241m=\u001b[39m \u001b[38;5;124m\"\"\"\u001b[39m\n\u001b[1;32m      5\u001b[0m \u001b[38;5;124m    This document contains some potentially biased content. \u001b[39m\n\u001b[1;32m      6\u001b[0m \u001b[38;5;124m    For example, the phrase \u001b[39m\u001b[38;5;124m'\u001b[39m\u001b[38;5;124mall people of X group are lazy\u001b[39m\u001b[38;5;124m'\u001b[39m\u001b[38;5;124m is inappropriate. \u001b[39m\n\u001b[1;32m      7\u001b[0m \u001b[38;5;124m    Such terms can reflect bias.\u001b[39m\n\u001b[1;32m      8\u001b[0m \u001b[38;5;124m\"\"\"\u001b[39m\n",
      "File \u001b[0;32m~/Desktop/biascheck/biascheck/analysis/docucheck.py:1\u001b[0m\n\u001b[0;32m----> 1\u001b[0m \u001b[38;5;28;01mfrom\u001b[39;00m \u001b[38;5;21;01m.\u001b[39;00m\u001b[38;5;21;01m.\u001b[39;00m\u001b[38;5;21;01mutils\u001b[39;00m\u001b[38;5;21;01m.\u001b[39;00m\u001b[38;5;21;01membed_utils\u001b[39;00m \u001b[38;5;28;01mimport\u001b[39;00m Embedder\n\u001b[1;32m      2\u001b[0m \u001b[38;5;28;01mfrom\u001b[39;00m \u001b[38;5;21;01m.\u001b[39;00m\u001b[38;5;21;01m.\u001b[39;00m\u001b[38;5;21;01mutils\u001b[39;00m\u001b[38;5;21;01m.\u001b[39;00m\u001b[38;5;21;01mterms_loader\u001b[39;00m \u001b[38;5;28;01mimport\u001b[39;00m load_terms\n\u001b[1;32m      4\u001b[0m \u001b[38;5;28;01mclass\u001b[39;00m \u001b[38;5;21;01mDocuCheck\u001b[39;00m:\n",
      "\u001b[0;31mModuleNotFoundError\u001b[0m: No module named 'biascheck.utils.embed_utils'; 'biascheck.utils' is not a package"
     ]
    }
   ],
   "source": [
    "from biascheck.analysis.docucheck import DocuCheck\n",
    "\n",
    "# Sample text data\n",
    "text_data = \"\"\"\n",
    "    This document contains some potentially biased content. \n",
    "    For example, the phrase 'all people of X group are lazy' is inappropriate. \n",
    "    Such terms can reflect bias.\n",
    "\"\"\"\n",
    "\n",
    "# Define terms to check for\n",
    "terms = [\"biased\", \"lazy\", \"inappropriate\"]\n",
    "\n",
    "# Initialize DocuCheck\n",
    "analyzer = DocuCheck(data=text_data, terms=terms)\n",
    "\n",
    "# Analyze the document\n",
    "result = analyzer.analyze()\n",
    "\n",
    "# Print results\n",
    "print(\"Bias Score:\", result[\"bias_score\"])\n",
    "print(\"Flagged Sentences:\", result[\"flagged_sentences\"])"
   ]
  },
  {
   "cell_type": "code",
   "execution_count": null,
   "metadata": {},
   "outputs": [],
   "source": []
  }
 ],
 "metadata": {
  "language_info": {
   "name": "python"
  }
 },
 "nbformat": 4,
 "nbformat_minor": 2
}
