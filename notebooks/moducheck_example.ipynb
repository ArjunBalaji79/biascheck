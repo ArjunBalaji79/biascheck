{
 "cells": [
  {
   "cell_type": "code",
   "execution_count": 3,
   "metadata": {},
   "outputs": [
    {
     "name": "stdout",
     "output_type": "stream",
     "text": [
      "                           topic  \\\n",
      "0  Gender equality in leadership   \n",
      "1             Cultural diversity   \n",
      "\n",
      "                                            response  sentiment  contains_bias  \n",
      "0  Gender equality in leadership is crucial for a...   0.327273          False  \n",
      "1  Cultural diversity refers to the variety of cu...   0.083889           True  \n"
     ]
    }
   ],
   "source": [
    "from biascheck.analysis.moducheck import ModuCheck\n",
    "from langchain.llms import Ollama\n",
    "\n",
    "model = Ollama(model=\"llama3\")\n",
    "topics = [\"Gender equality in leadership\", \"Cultural diversity\"]\n",
    "\n",
    "analyzer = ModuCheck(model=model, terms=[\"bias\", \"stereotype\"])\n",
    "result = analyzer.analyze(topics=topics, num_responses=1, word_limit=50)\n",
    "print(result)"
   ]
  },
  {
   "cell_type": "code",
   "execution_count": null,
   "metadata": {},
   "outputs": [],
   "source": []
  }
 ],
 "metadata": {
  "kernelspec": {
   "display_name": "zuse",
   "language": "python",
   "name": "python3"
  },
  "language_info": {
   "codemirror_mode": {
    "name": "ipython",
    "version": 3
   },
   "file_extension": ".py",
   "mimetype": "text/x-python",
   "name": "python",
   "nbconvert_exporter": "python",
   "pygments_lexer": "ipython3",
   "version": "3.10.10"
  }
 },
 "nbformat": 4,
 "nbformat_minor": 2
}
